{
 "cells": [
  {
   "cell_type": "markdown",
   "id": "57d0385c-9213-4277-9101-9d068685255b",
   "metadata": {},
   "source": [
    "#### Alphabet Soup Problem"
   ]
  },
  {
   "cell_type": "code",
   "execution_count": 14,
   "id": "4fb7ef1a-4a0f-42e8-91b6-5ca88d3dcbd2",
   "metadata": {},
   "outputs": [
    {
     "name": "stdin",
     "output_type": "stream",
     "text": [
      "Enter string:  alphabet\n"
     ]
    },
    {
     "name": "stdout",
     "output_type": "stream",
     "text": [
      "aabehlpt\n"
     ]
    }
   ],
   "source": [
    "#Define a function\n",
    "def alphabet():\n",
    "    #Prompt the user to enter a string and store in variable x\n",
    "    x=input(\"Enter string: \")\n",
    "    #Sort the entered string by converting it into a list of characters\n",
    "    sorted_chars=sorted(x)\n",
    "    #Use slicing to unite the sorted characters in one string\n",
    "    sorted_string=''.join(sorted_chars[:])\n",
    "    #Print the sorted string\n",
    "    print(sorted_string)\n",
    "#Call the alphabet function to execute\n",
    "alphabet()"
   ]
  },
  {
   "cell_type": "markdown",
   "id": "d4662a1b-cdc3-4417-92f7-319720b419e7",
   "metadata": {},
   "source": [
    "#### Emoticon Problem"
   ]
  },
  {
   "cell_type": "code",
   "execution_count": 12,
   "id": "86682f6b-edec-4561-9dcd-b5b4f840c7df",
   "metadata": {},
   "outputs": [
    {
     "name": "stdin",
     "output_type": "stream",
     "text": [
      "Input:  I am sad and mad and I want to smile and grin\n"
     ]
    },
    {
     "name": "stdout",
     "output_type": "stream",
     "text": [
      "I am :( and >:( and I want to :) and :D "
     ]
    }
   ],
   "source": [
    "#Define a function\n",
    "def emoticon():\n",
    "    #Create a dictionary containing the word and its respective emoticon\n",
    "    emotes = {\"smile\": \":)\", \"grin\": \":D\", \"sad\": \":(\", \"mad\": \">:(\"}\n",
    "    #Prompt the user to enter an input\n",
    "    sentence = input(\"Input: \")\n",
    "    #Split the sentence into individual words and store them in a \"new\" list\n",
    "    new = sentence.split()\n",
    "    #Iterate through each word in the \"new\" list by using for loop\n",
    "    for word in new:\n",
    "    #If the word matches in the \"new\" list, replace the word with its respective emoticon\n",
    "        converted = emotes.get(word, word)\n",
    "        print(converted, end=\" \") \n",
    "#Call the emoticon function to execute\n",
    "emoticon()"
   ]
  },
  {
   "cell_type": "markdown",
   "id": "67a0f7ac-e164-4759-adf5-d9df1fa193c8",
   "metadata": {},
   "source": [
    "#### Unpacking List Problem"
   ]
  },
  {
   "cell_type": "code",
   "execution_count": 18,
   "id": "ca8739c9-d501-470c-88af-d7ace729ec95",
   "metadata": {},
   "outputs": [
    {
     "name": "stdout",
     "output_type": "stream",
     "text": [
      "first: 1 middle: [2, 3, 4, 5] last: 6\n"
     ]
    }
   ],
   "source": [
    "#Define a list containing elements of 1 through 6\n",
    "list = [1, 2, 3, 4, 5, 6]\n",
    "#print the first, middle, and last element by entering the element number and using slicing for the middle element\n",
    "print(\"first:\", list[0], \"middle:\", list[1:-1], \"last:\", list[-1])"
   ]
  }
 ],
 "metadata": {
  "kernelspec": {
   "display_name": "Python 3 (ipykernel)",
   "language": "python",
   "name": "python3"
  },
  "language_info": {
   "codemirror_mode": {
    "name": "ipython",
    "version": 3
   },
   "file_extension": ".py",
   "mimetype": "text/x-python",
   "name": "python",
   "nbconvert_exporter": "python",
   "pygments_lexer": "ipython3",
   "version": "3.12.4"
  }
 },
 "nbformat": 4,
 "nbformat_minor": 5
}
